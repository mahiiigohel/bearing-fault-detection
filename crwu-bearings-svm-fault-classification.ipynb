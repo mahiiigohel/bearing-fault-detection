{
 "cells": [
  {
   "cell_type": "code",
   "execution_count": 1,
   "id": "peaceful-glass",
   "metadata": {
    "_cell_guid": "b1076dfc-b9ad-4769-8c92-a6c4dae69d19",
    "_uuid": "8f2839f25d086af736a60e9eeb907d3b93b6e0e5",
    "execution": {
     "iopub.execute_input": "2025-07-02T15:09:38.346138Z",
     "iopub.status.busy": "2025-07-02T15:09:38.345422Z",
     "iopub.status.idle": "2025-07-02T15:09:40.370767Z",
     "shell.execute_reply": "2025-07-02T15:09:40.371301Z",
     "shell.execute_reply.started": "2025-07-01T13:44:27.707255Z"
    },
    "papermill": {
     "duration": 2.065809,
     "end_time": "2025-07-02T15:09:40.371662",
     "exception": false,
     "start_time": "2025-07-02T15:09:38.305853",
     "status": "completed"
    },
    "tags": []
   },
   "outputs": [
    {
     "name": "stdout",
     "output_type": "stream",
     "text": [
      "/kaggle/input/cwru-bearing-datasets/CWRU_48k_load_1_CNN_data.npz\n",
      "/kaggle/input/cwru-bearing-datasets/feature_time_48k_2048_load_1.csv\n",
      "/kaggle/input/cwru-bearing-datasets/raw/IR021_1_214.mat\n",
      "/kaggle/input/cwru-bearing-datasets/raw/B014_1_190.mat\n",
      "/kaggle/input/cwru-bearing-datasets/raw/OR007_6_1_136.mat\n",
      "/kaggle/input/cwru-bearing-datasets/raw/OR014_6_1_202.mat\n",
      "/kaggle/input/cwru-bearing-datasets/raw/B007_1_123.mat\n",
      "/kaggle/input/cwru-bearing-datasets/raw/IR007_1_110.mat\n",
      "/kaggle/input/cwru-bearing-datasets/raw/B021_1_227.mat\n",
      "/kaggle/input/cwru-bearing-datasets/raw/Time_Normal_1_098.mat\n",
      "/kaggle/input/cwru-bearing-datasets/raw/OR021_6_1_239.mat\n",
      "/kaggle/input/cwru-bearing-datasets/raw/IR014_1_175.mat\n"
     ]
    }
   ],
   "source": [
    "import numpy as np # linear algebra\n",
    "import pandas as pd # data processing, CSV file I/O (e.g. pd.read_csv)\n",
    "\n",
    "from sklearn.model_selection import train_test_split\n",
    "from sklearn.preprocessing import StandardScaler\n",
    "from sklearn.model_selection import GridSearchCV\n",
    "from sklearn.svm import SVC\n",
    "from sklearn.metrics import confusion_matrix,classification_report, accuracy_score\n",
    "\n",
    "import seaborn as sns\n",
    "import matplotlib.pyplot as plt\n",
    "\n",
    "import os\n",
    "for dirname, _, filenames in os.walk('/kaggle/input'):\n",
    "    for filename in filenames:\n",
    "        print(os.path.join(dirname, filename))"
   ]
  },
  {
   "cell_type": "markdown",
   "id": "adequate-hollow",
   "metadata": {
    "papermill": {
     "duration": 0.028364,
     "end_time": "2025-07-02T15:09:40.427451",
     "exception": false,
     "start_time": "2025-07-02T15:09:40.399087",
     "status": "completed"
    },
    "tags": []
   },
   "source": [
    "## Fault type identification\n",
    "There are 10 types of faults, linked to each bearing deffect:\n",
    "\n",
    "- **Ball_007_1**: Ball defect (0.007 inch)\n",
    "- **Ball_014_1**: Ball defect (0.014 inch)\n",
    "- **Ball_021_1**: Ball defect (0.021 inch)\n",
    "- **IR_007_1**: Inner race fault (0.007 inch)\n",
    "- **IR_014_1**: Inner race fault (0.014 inch)\n",
    "- **IR_021_1**: Inner race fault (0.021 inch)\n",
    "- **Normal_1**: Normal\n",
    "- **OR_007_6_1**: Outer race fault (0.007 inch, data collected from 6 O'clock position)\n",
    "- **OR_014_6_1**: Outer race fault (0.014 inch, 6 O'clock)\n",
    "- **OR_021_6_1**: Outer race fault (0.021 inch, 6 O'clock)"
   ]
  },
  {
   "cell_type": "markdown",
   "id": "regional-router",
   "metadata": {
    "papermill": {
     "duration": 0.025986,
     "end_time": "2025-07-02T15:09:40.481665",
     "exception": false,
     "start_time": "2025-07-02T15:09:40.455679",
     "status": "completed"
    },
    "tags": []
   },
   "source": [
    "## Get the data\n",
    "The file we will read is the result of preprocessing the raw data files (folder `/kaggle/input/cwru-bearing-datasets/raw/`).\n",
    "\n",
    "Time series segments contains 2048 points each. Given that the sampling frequency is 48kHz each time serie covers 0.04 seconds."
   ]
  },
  {
   "cell_type": "code",
   "execution_count": 2,
   "id": "confident-baptist",
   "metadata": {
    "execution": {
     "iopub.execute_input": "2025-07-02T15:09:40.544259Z",
     "iopub.status.busy": "2025-07-02T15:09:40.543371Z",
     "iopub.status.idle": "2025-07-02T15:09:40.621643Z",
     "shell.execute_reply": "2025-07-02T15:09:40.620576Z",
     "shell.execute_reply.started": "2025-07-01T13:44:28.916687Z"
    },
    "papermill": {
     "duration": 0.110907,
     "end_time": "2025-07-02T15:09:40.621867",
     "exception": false,
     "start_time": "2025-07-02T15:09:40.510960",
     "status": "completed"
    },
    "tags": []
   },
   "outputs": [
    {
     "data": {
      "text/html": [
       "<div>\n",
       "<style scoped>\n",
       "    .dataframe tbody tr th:only-of-type {\n",
       "        vertical-align: middle;\n",
       "    }\n",
       "\n",
       "    .dataframe tbody tr th {\n",
       "        vertical-align: top;\n",
       "    }\n",
       "\n",
       "    .dataframe thead th {\n",
       "        text-align: right;\n",
       "    }\n",
       "</style>\n",
       "<table border=\"1\" class=\"dataframe\">\n",
       "  <thead>\n",
       "    <tr style=\"text-align: right;\">\n",
       "      <th></th>\n",
       "      <th>max</th>\n",
       "      <th>min</th>\n",
       "      <th>mean</th>\n",
       "      <th>sd</th>\n",
       "      <th>rms</th>\n",
       "      <th>skewness</th>\n",
       "      <th>kurtosis</th>\n",
       "      <th>crest</th>\n",
       "      <th>form</th>\n",
       "      <th>fault</th>\n",
       "    </tr>\n",
       "  </thead>\n",
       "  <tbody>\n",
       "    <tr>\n",
       "      <th>0</th>\n",
       "      <td>0.35986</td>\n",
       "      <td>-0.41890</td>\n",
       "      <td>0.017840</td>\n",
       "      <td>0.122746</td>\n",
       "      <td>0.124006</td>\n",
       "      <td>-0.118571</td>\n",
       "      <td>-0.042219</td>\n",
       "      <td>2.901946</td>\n",
       "      <td>6.950855</td>\n",
       "      <td>Ball_007_1</td>\n",
       "    </tr>\n",
       "    <tr>\n",
       "      <th>1</th>\n",
       "      <td>0.46772</td>\n",
       "      <td>-0.36111</td>\n",
       "      <td>0.022255</td>\n",
       "      <td>0.132488</td>\n",
       "      <td>0.134312</td>\n",
       "      <td>0.174699</td>\n",
       "      <td>-0.081548</td>\n",
       "      <td>3.482334</td>\n",
       "      <td>6.035202</td>\n",
       "      <td>Ball_007_1</td>\n",
       "    </tr>\n",
       "    <tr>\n",
       "      <th>2</th>\n",
       "      <td>0.46855</td>\n",
       "      <td>-0.43809</td>\n",
       "      <td>0.020470</td>\n",
       "      <td>0.149651</td>\n",
       "      <td>0.151008</td>\n",
       "      <td>0.040339</td>\n",
       "      <td>-0.274069</td>\n",
       "      <td>3.102819</td>\n",
       "      <td>7.376926</td>\n",
       "      <td>Ball_007_1</td>\n",
       "    </tr>\n",
       "    <tr>\n",
       "      <th>3</th>\n",
       "      <td>0.58475</td>\n",
       "      <td>-0.54303</td>\n",
       "      <td>0.020960</td>\n",
       "      <td>0.157067</td>\n",
       "      <td>0.158422</td>\n",
       "      <td>-0.023266</td>\n",
       "      <td>0.134692</td>\n",
       "      <td>3.691097</td>\n",
       "      <td>7.558387</td>\n",
       "      <td>Ball_007_1</td>\n",
       "    </tr>\n",
       "    <tr>\n",
       "      <th>4</th>\n",
       "      <td>0.44685</td>\n",
       "      <td>-0.57891</td>\n",
       "      <td>0.022167</td>\n",
       "      <td>0.138189</td>\n",
       "      <td>0.139922</td>\n",
       "      <td>-0.081534</td>\n",
       "      <td>0.402783</td>\n",
       "      <td>3.193561</td>\n",
       "      <td>6.312085</td>\n",
       "      <td>Ball_007_1</td>\n",
       "    </tr>\n",
       "    <tr>\n",
       "      <th>...</th>\n",
       "      <td>...</td>\n",
       "      <td>...</td>\n",
       "      <td>...</td>\n",
       "      <td>...</td>\n",
       "      <td>...</td>\n",
       "      <td>...</td>\n",
       "      <td>...</td>\n",
       "      <td>...</td>\n",
       "      <td>...</td>\n",
       "      <td>...</td>\n",
       "    </tr>\n",
       "    <tr>\n",
       "      <th>2295</th>\n",
       "      <td>0.21425</td>\n",
       "      <td>-0.19839</td>\n",
       "      <td>0.010769</td>\n",
       "      <td>0.064100</td>\n",
       "      <td>0.064983</td>\n",
       "      <td>-0.212497</td>\n",
       "      <td>-0.119312</td>\n",
       "      <td>3.297037</td>\n",
       "      <td>6.034174</td>\n",
       "      <td>Normal_1</td>\n",
       "    </tr>\n",
       "    <tr>\n",
       "      <th>2296</th>\n",
       "      <td>0.21967</td>\n",
       "      <td>-0.20882</td>\n",
       "      <td>0.013136</td>\n",
       "      <td>0.068654</td>\n",
       "      <td>0.069883</td>\n",
       "      <td>-0.061308</td>\n",
       "      <td>-0.295122</td>\n",
       "      <td>3.143410</td>\n",
       "      <td>5.319958</td>\n",
       "      <td>Normal_1</td>\n",
       "    </tr>\n",
       "    <tr>\n",
       "      <th>2297</th>\n",
       "      <td>0.20799</td>\n",
       "      <td>-0.21613</td>\n",
       "      <td>0.012571</td>\n",
       "      <td>0.067128</td>\n",
       "      <td>0.068279</td>\n",
       "      <td>-0.154754</td>\n",
       "      <td>-0.071405</td>\n",
       "      <td>3.046161</td>\n",
       "      <td>5.431299</td>\n",
       "      <td>Normal_1</td>\n",
       "    </tr>\n",
       "    <tr>\n",
       "      <th>2298</th>\n",
       "      <td>0.21425</td>\n",
       "      <td>-0.22405</td>\n",
       "      <td>0.012608</td>\n",
       "      <td>0.066813</td>\n",
       "      <td>0.067977</td>\n",
       "      <td>-0.326966</td>\n",
       "      <td>0.023662</td>\n",
       "      <td>3.151821</td>\n",
       "      <td>5.391672</td>\n",
       "      <td>Normal_1</td>\n",
       "    </tr>\n",
       "    <tr>\n",
       "      <th>2299</th>\n",
       "      <td>0.19610</td>\n",
       "      <td>-0.24721</td>\n",
       "      <td>0.012209</td>\n",
       "      <td>0.063243</td>\n",
       "      <td>0.064396</td>\n",
       "      <td>-0.351762</td>\n",
       "      <td>0.226294</td>\n",
       "      <td>3.045244</td>\n",
       "      <td>5.274392</td>\n",
       "      <td>Normal_1</td>\n",
       "    </tr>\n",
       "  </tbody>\n",
       "</table>\n",
       "<p>2300 rows × 10 columns</p>\n",
       "</div>"
      ],
      "text/plain": [
       "          max      min      mean        sd       rms  skewness  kurtosis  \\\n",
       "0     0.35986 -0.41890  0.017840  0.122746  0.124006 -0.118571 -0.042219   \n",
       "1     0.46772 -0.36111  0.022255  0.132488  0.134312  0.174699 -0.081548   \n",
       "2     0.46855 -0.43809  0.020470  0.149651  0.151008  0.040339 -0.274069   \n",
       "3     0.58475 -0.54303  0.020960  0.157067  0.158422 -0.023266  0.134692   \n",
       "4     0.44685 -0.57891  0.022167  0.138189  0.139922 -0.081534  0.402783   \n",
       "...       ...      ...       ...       ...       ...       ...       ...   \n",
       "2295  0.21425 -0.19839  0.010769  0.064100  0.064983 -0.212497 -0.119312   \n",
       "2296  0.21967 -0.20882  0.013136  0.068654  0.069883 -0.061308 -0.295122   \n",
       "2297  0.20799 -0.21613  0.012571  0.067128  0.068279 -0.154754 -0.071405   \n",
       "2298  0.21425 -0.22405  0.012608  0.066813  0.067977 -0.326966  0.023662   \n",
       "2299  0.19610 -0.24721  0.012209  0.063243  0.064396 -0.351762  0.226294   \n",
       "\n",
       "         crest      form       fault  \n",
       "0     2.901946  6.950855  Ball_007_1  \n",
       "1     3.482334  6.035202  Ball_007_1  \n",
       "2     3.102819  7.376926  Ball_007_1  \n",
       "3     3.691097  7.558387  Ball_007_1  \n",
       "4     3.193561  6.312085  Ball_007_1  \n",
       "...        ...       ...         ...  \n",
       "2295  3.297037  6.034174    Normal_1  \n",
       "2296  3.143410  5.319958    Normal_1  \n",
       "2297  3.046161  5.431299    Normal_1  \n",
       "2298  3.151821  5.391672    Normal_1  \n",
       "2299  3.045244  5.274392    Normal_1  \n",
       "\n",
       "[2300 rows x 10 columns]"
      ]
     },
     "execution_count": 2,
     "metadata": {},
     "output_type": "execute_result"
    }
   ],
   "source": [
    "data_time = pd.read_csv(\"../input/cwru-bearing-datasets/feature_time_48k_2048_load_1.csv\")\n",
    "data_time"
   ]
  },
  {
   "cell_type": "markdown",
   "id": "abstract-basketball",
   "metadata": {
    "papermill": {
     "duration": 0.029347,
     "end_time": "2025-07-02T15:09:40.679839",
     "exception": false,
     "start_time": "2025-07-02T15:09:40.650492",
     "status": "completed"
    },
    "tags": []
   },
   "source": [
    "## Split into train and test datasets"
   ]
  },
  {
   "cell_type": "code",
   "execution_count": 3,
   "id": "abroad-appliance",
   "metadata": {
    "execution": {
     "iopub.execute_input": "2025-07-02T15:09:40.751964Z",
     "iopub.status.busy": "2025-07-02T15:09:40.750836Z",
     "iopub.status.idle": "2025-07-02T15:09:40.771513Z",
     "shell.execute_reply": "2025-07-02T15:09:40.770630Z",
     "shell.execute_reply.started": "2025-07-01T13:44:28.979416Z"
    },
    "papermill": {
     "duration": 0.062213,
     "end_time": "2025-07-02T15:09:40.771704",
     "exception": false,
     "start_time": "2025-07-02T15:09:40.709491",
     "status": "completed"
    },
    "tags": []
   },
   "outputs": [
    {
     "data": {
      "text/plain": [
       "Ball_014_1    75\n",
       "Ball_007_1    75\n",
       "IR_021_1      75\n",
       "IR_007_1      75\n",
       "OR_014_6_1    75\n",
       "OR_021_6_1    75\n",
       "Normal_1      75\n",
       "Ball_021_1    75\n",
       "OR_007_6_1    75\n",
       "IR_014_1      75\n",
       "Name: fault, dtype: int64"
      ]
     },
     "execution_count": 3,
     "metadata": {},
     "output_type": "execute_result"
    }
   ],
   "source": [
    "train_data, test_data = train_test_split(data_time, test_size = 750, stratify = data_time['fault'], random_state = 1234)\n",
    "test_data['fault'].value_counts()"
   ]
  },
  {
   "cell_type": "markdown",
   "id": "acute-budapest",
   "metadata": {
    "papermill": {
     "duration": 0.02703,
     "end_time": "2025-07-02T15:09:40.826297",
     "exception": false,
     "start_time": "2025-07-02T15:09:40.799267",
     "status": "completed"
    },
    "tags": []
   },
   "source": [
    "## Scale features in train set"
   ]
  },
  {
   "cell_type": "code",
   "execution_count": 4,
   "id": "worse-valley",
   "metadata": {
    "execution": {
     "iopub.execute_input": "2025-07-02T15:09:40.892329Z",
     "iopub.status.busy": "2025-07-02T15:09:40.890873Z",
     "iopub.status.idle": "2025-07-02T15:09:40.945632Z",
     "shell.execute_reply": "2025-07-02T15:09:40.944974Z",
     "shell.execute_reply.started": "2025-07-01T13:44:28.998853Z"
    },
    "papermill": {
     "duration": 0.092108,
     "end_time": "2025-07-02T15:09:40.945807",
     "exception": false,
     "start_time": "2025-07-02T15:09:40.853699",
     "status": "completed"
    },
    "tags": []
   },
   "outputs": [
    {
     "data": {
      "text/html": [
       "<div>\n",
       "<style scoped>\n",
       "    .dataframe tbody tr th:only-of-type {\n",
       "        vertical-align: middle;\n",
       "    }\n",
       "\n",
       "    .dataframe tbody tr th {\n",
       "        vertical-align: top;\n",
       "    }\n",
       "\n",
       "    .dataframe thead th {\n",
       "        text-align: right;\n",
       "    }\n",
       "</style>\n",
       "<table border=\"1\" class=\"dataframe\">\n",
       "  <thead>\n",
       "    <tr style=\"text-align: right;\">\n",
       "      <th></th>\n",
       "      <th>0</th>\n",
       "      <th>1</th>\n",
       "      <th>2</th>\n",
       "      <th>3</th>\n",
       "      <th>4</th>\n",
       "      <th>5</th>\n",
       "      <th>6</th>\n",
       "      <th>7</th>\n",
       "      <th>8</th>\n",
       "    </tr>\n",
       "  </thead>\n",
       "  <tbody>\n",
       "    <tr>\n",
       "      <th>count</th>\n",
       "      <td>1.550000e+03</td>\n",
       "      <td>1.550000e+03</td>\n",
       "      <td>1.550000e+03</td>\n",
       "      <td>1.550000e+03</td>\n",
       "      <td>1.550000e+03</td>\n",
       "      <td>1.550000e+03</td>\n",
       "      <td>1.550000e+03</td>\n",
       "      <td>1.550000e+03</td>\n",
       "      <td>1.550000e+03</td>\n",
       "    </tr>\n",
       "    <tr>\n",
       "      <th>mean</th>\n",
       "      <td>1.260640e-16</td>\n",
       "      <td>1.002782e-16</td>\n",
       "      <td>-2.888012e-16</td>\n",
       "      <td>6.016693e-17</td>\n",
       "      <td>-5.386372e-17</td>\n",
       "      <td>1.833659e-17</td>\n",
       "      <td>-5.500976e-17</td>\n",
       "      <td>4.950878e-16</td>\n",
       "      <td>-2.521281e-17</td>\n",
       "    </tr>\n",
       "    <tr>\n",
       "      <th>std</th>\n",
       "      <td>1.000323e+00</td>\n",
       "      <td>1.000323e+00</td>\n",
       "      <td>1.000323e+00</td>\n",
       "      <td>1.000323e+00</td>\n",
       "      <td>1.000323e+00</td>\n",
       "      <td>1.000323e+00</td>\n",
       "      <td>1.000323e+00</td>\n",
       "      <td>1.000323e+00</td>\n",
       "      <td>1.000323e+00</td>\n",
       "    </tr>\n",
       "    <tr>\n",
       "      <th>min</th>\n",
       "      <td>-8.877055e-01</td>\n",
       "      <td>-2.951564e+00</td>\n",
       "      <td>-1.935376e+00</td>\n",
       "      <td>-9.258092e-01</td>\n",
       "      <td>-9.231913e-01</td>\n",
       "      <td>-5.951422e+00</td>\n",
       "      <td>-7.874742e-01</td>\n",
       "      <td>-1.481163e+00</td>\n",
       "      <td>-7.775653e-01</td>\n",
       "    </tr>\n",
       "    <tr>\n",
       "      <th>25%</th>\n",
       "      <td>-7.088474e-01</td>\n",
       "      <td>-3.753614e-01</td>\n",
       "      <td>-6.908705e-01</td>\n",
       "      <td>-6.755048e-01</td>\n",
       "      <td>-6.760659e-01</td>\n",
       "      <td>-3.678525e-01</td>\n",
       "      <td>-6.073122e-01</td>\n",
       "      <td>-8.064817e-01</td>\n",
       "      <td>-6.475107e-01</td>\n",
       "    </tr>\n",
       "    <tr>\n",
       "      <th>50%</th>\n",
       "      <td>-4.958143e-01</td>\n",
       "      <td>5.113022e-01</td>\n",
       "      <td>-3.141526e-01</td>\n",
       "      <td>-5.055027e-01</td>\n",
       "      <td>-5.038108e-01</td>\n",
       "      <td>2.140248e-01</td>\n",
       "      <td>-4.182916e-01</td>\n",
       "      <td>-2.135605e-01</td>\n",
       "      <td>-4.548003e-01</td>\n",
       "    </tr>\n",
       "    <tr>\n",
       "      <th>75%</th>\n",
       "      <td>4.477234e-01</td>\n",
       "      <td>7.003484e-01</td>\n",
       "      <td>4.560105e-01</td>\n",
       "      <td>7.015641e-01</td>\n",
       "      <td>7.003255e-01</td>\n",
       "      <td>5.823124e-01</td>\n",
       "      <td>2.860828e-01</td>\n",
       "      <td>5.648177e-01</td>\n",
       "      <td>4.360429e-01</td>\n",
       "    </tr>\n",
       "    <tr>\n",
       "      <th>max</th>\n",
       "      <td>3.297226e+00</td>\n",
       "      <td>8.671141e-01</td>\n",
       "      <td>3.503861e+00</td>\n",
       "      <td>2.980548e+00</td>\n",
       "      <td>2.981995e+00</td>\n",
       "      <td>4.906756e+00</td>\n",
       "      <td>6.349353e+00</td>\n",
       "      <td>4.049712e+00</td>\n",
       "      <td>9.629399e+00</td>\n",
       "    </tr>\n",
       "  </tbody>\n",
       "</table>\n",
       "</div>"
      ],
      "text/plain": [
       "                  0             1             2             3             4  \\\n",
       "count  1.550000e+03  1.550000e+03  1.550000e+03  1.550000e+03  1.550000e+03   \n",
       "mean   1.260640e-16  1.002782e-16 -2.888012e-16  6.016693e-17 -5.386372e-17   \n",
       "std    1.000323e+00  1.000323e+00  1.000323e+00  1.000323e+00  1.000323e+00   \n",
       "min   -8.877055e-01 -2.951564e+00 -1.935376e+00 -9.258092e-01 -9.231913e-01   \n",
       "25%   -7.088474e-01 -3.753614e-01 -6.908705e-01 -6.755048e-01 -6.760659e-01   \n",
       "50%   -4.958143e-01  5.113022e-01 -3.141526e-01 -5.055027e-01 -5.038108e-01   \n",
       "75%    4.477234e-01  7.003484e-01  4.560105e-01  7.015641e-01  7.003255e-01   \n",
       "max    3.297226e+00  8.671141e-01  3.503861e+00  2.980548e+00  2.981995e+00   \n",
       "\n",
       "                  5             6             7             8  \n",
       "count  1.550000e+03  1.550000e+03  1.550000e+03  1.550000e+03  \n",
       "mean   1.833659e-17 -5.500976e-17  4.950878e-16 -2.521281e-17  \n",
       "std    1.000323e+00  1.000323e+00  1.000323e+00  1.000323e+00  \n",
       "min   -5.951422e+00 -7.874742e-01 -1.481163e+00 -7.775653e-01  \n",
       "25%   -3.678525e-01 -6.073122e-01 -8.064817e-01 -6.475107e-01  \n",
       "50%    2.140248e-01 -4.182916e-01 -2.135605e-01 -4.548003e-01  \n",
       "75%    5.823124e-01  2.860828e-01  5.648177e-01  4.360429e-01  \n",
       "max    4.906756e+00  6.349353e+00  4.049712e+00  9.629399e+00  "
      ]
     },
     "execution_count": 4,
     "metadata": {},
     "output_type": "execute_result"
    }
   ],
   "source": [
    "# Scale each column to have zero mean and standard deviation equal to 1\n",
    "scaler = StandardScaler()\n",
    "train_data_scaled = scaler.fit_transform(train_data.iloc[:,:-1])\n",
    "pd.DataFrame(train_data_scaled).describe()"
   ]
  },
  {
   "cell_type": "code",
   "execution_count": 5,
   "id": "generous-singapore",
   "metadata": {
    "execution": {
     "iopub.execute_input": "2025-07-02T15:09:41.012940Z",
     "iopub.status.busy": "2025-07-02T15:09:41.012165Z",
     "iopub.status.idle": "2025-07-02T15:09:41.054086Z",
     "shell.execute_reply": "2025-07-02T15:09:41.054588Z",
     "shell.execute_reply.started": "2025-07-01T13:44:29.048330Z"
    },
    "papermill": {
     "duration": 0.08036,
     "end_time": "2025-07-02T15:09:41.054787",
     "exception": false,
     "start_time": "2025-07-02T15:09:40.974427",
     "status": "completed"
    },
    "tags": []
   },
   "outputs": [
    {
     "data": {
      "text/html": [
       "<div>\n",
       "<style scoped>\n",
       "    .dataframe tbody tr th:only-of-type {\n",
       "        vertical-align: middle;\n",
       "    }\n",
       "\n",
       "    .dataframe tbody tr th {\n",
       "        vertical-align: top;\n",
       "    }\n",
       "\n",
       "    .dataframe thead th {\n",
       "        text-align: right;\n",
       "    }\n",
       "</style>\n",
       "<table border=\"1\" class=\"dataframe\">\n",
       "  <thead>\n",
       "    <tr style=\"text-align: right;\">\n",
       "      <th></th>\n",
       "      <th>0</th>\n",
       "      <th>1</th>\n",
       "      <th>2</th>\n",
       "      <th>3</th>\n",
       "      <th>4</th>\n",
       "      <th>5</th>\n",
       "      <th>6</th>\n",
       "      <th>7</th>\n",
       "      <th>8</th>\n",
       "    </tr>\n",
       "  </thead>\n",
       "  <tbody>\n",
       "    <tr>\n",
       "      <th>count</th>\n",
       "      <td>750.000000</td>\n",
       "      <td>750.000000</td>\n",
       "      <td>750.000000</td>\n",
       "      <td>750.000000</td>\n",
       "      <td>750.000000</td>\n",
       "      <td>750.000000</td>\n",
       "      <td>750.000000</td>\n",
       "      <td>750.000000</td>\n",
       "      <td>750.000000</td>\n",
       "    </tr>\n",
       "    <tr>\n",
       "      <th>mean</th>\n",
       "      <td>-0.013718</td>\n",
       "      <td>0.003277</td>\n",
       "      <td>-0.018151</td>\n",
       "      <td>-0.013327</td>\n",
       "      <td>-0.013375</td>\n",
       "      <td>-0.035946</td>\n",
       "      <td>0.018838</td>\n",
       "      <td>0.009379</td>\n",
       "      <td>-0.012433</td>\n",
       "    </tr>\n",
       "    <tr>\n",
       "      <th>std</th>\n",
       "      <td>0.976752</td>\n",
       "      <td>0.993896</td>\n",
       "      <td>1.003708</td>\n",
       "      <td>0.987301</td>\n",
       "      <td>0.987315</td>\n",
       "      <td>1.105931</td>\n",
       "      <td>1.028360</td>\n",
       "      <td>0.998996</td>\n",
       "      <td>0.936491</td>\n",
       "    </tr>\n",
       "    <tr>\n",
       "      <th>min</th>\n",
       "      <td>-0.895968</td>\n",
       "      <td>-2.754539</td>\n",
       "      <td>-1.590184</td>\n",
       "      <td>-0.922087</td>\n",
       "      <td>-0.922953</td>\n",
       "      <td>-6.014935</td>\n",
       "      <td>-0.759377</td>\n",
       "      <td>-1.515700</td>\n",
       "      <td>-0.772309</td>\n",
       "    </tr>\n",
       "    <tr>\n",
       "      <th>25%</th>\n",
       "      <td>-0.706453</td>\n",
       "      <td>-0.429163</td>\n",
       "      <td>-0.720867</td>\n",
       "      <td>-0.677965</td>\n",
       "      <td>-0.678545</td>\n",
       "      <td>-0.355683</td>\n",
       "      <td>-0.606352</td>\n",
       "      <td>-0.762882</td>\n",
       "      <td>-0.641796</td>\n",
       "    </tr>\n",
       "    <tr>\n",
       "      <th>50%</th>\n",
       "      <td>-0.494044</td>\n",
       "      <td>0.503185</td>\n",
       "      <td>-0.303458</td>\n",
       "      <td>-0.492809</td>\n",
       "      <td>-0.490457</td>\n",
       "      <td>0.224657</td>\n",
       "      <td>-0.415267</td>\n",
       "      <td>-0.219297</td>\n",
       "      <td>-0.452940</td>\n",
       "    </tr>\n",
       "    <tr>\n",
       "      <th>75%</th>\n",
       "      <td>0.394936</td>\n",
       "      <td>0.704214</td>\n",
       "      <td>0.401811</td>\n",
       "      <td>0.669274</td>\n",
       "      <td>0.667916</td>\n",
       "      <td>0.576534</td>\n",
       "      <td>0.294171</td>\n",
       "      <td>0.547845</td>\n",
       "      <td>0.447909</td>\n",
       "    </tr>\n",
       "    <tr>\n",
       "      <th>max</th>\n",
       "      <td>3.008545</td>\n",
       "      <td>0.861398</td>\n",
       "      <td>3.003970</td>\n",
       "      <td>2.885914</td>\n",
       "      <td>2.887282</td>\n",
       "      <td>6.301407</td>\n",
       "      <td>5.007205</td>\n",
       "      <td>3.784107</td>\n",
       "      <td>3.531440</td>\n",
       "    </tr>\n",
       "  </tbody>\n",
       "</table>\n",
       "</div>"
      ],
      "text/plain": [
       "                0           1           2           3           4           5  \\\n",
       "count  750.000000  750.000000  750.000000  750.000000  750.000000  750.000000   \n",
       "mean    -0.013718    0.003277   -0.018151   -0.013327   -0.013375   -0.035946   \n",
       "std      0.976752    0.993896    1.003708    0.987301    0.987315    1.105931   \n",
       "min     -0.895968   -2.754539   -1.590184   -0.922087   -0.922953   -6.014935   \n",
       "25%     -0.706453   -0.429163   -0.720867   -0.677965   -0.678545   -0.355683   \n",
       "50%     -0.494044    0.503185   -0.303458   -0.492809   -0.490457    0.224657   \n",
       "75%      0.394936    0.704214    0.401811    0.669274    0.667916    0.576534   \n",
       "max      3.008545    0.861398    3.003970    2.885914    2.887282    6.301407   \n",
       "\n",
       "                6           7           8  \n",
       "count  750.000000  750.000000  750.000000  \n",
       "mean     0.018838    0.009379   -0.012433  \n",
       "std      1.028360    0.998996    0.936491  \n",
       "min     -0.759377   -1.515700   -0.772309  \n",
       "25%     -0.606352   -0.762882   -0.641796  \n",
       "50%     -0.415267   -0.219297   -0.452940  \n",
       "75%      0.294171    0.547845    0.447909  \n",
       "max      5.007205    3.784107    3.531440  "
      ]
     },
     "execution_count": 5,
     "metadata": {},
     "output_type": "execute_result"
    }
   ],
   "source": [
    "test_data_scaled = (test_data.iloc[:,:-1].values - scaler.mean_)/np.sqrt(scaler.var_)\n",
    "pd.DataFrame(test_data_scaled).describe()"
   ]
  },
  {
   "cell_type": "markdown",
   "id": "younger-response",
   "metadata": {
    "papermill": {
     "duration": 0.028959,
     "end_time": "2025-07-02T15:09:41.114244",
     "exception": false,
     "start_time": "2025-07-02T15:09:41.085285",
     "status": "completed"
    },
    "tags": []
   },
   "source": [
    "## Train a model using Support Vector Classifier\n",
    "Call the SVC() model from sklearn and fit the model to the training data."
   ]
  },
  {
   "cell_type": "code",
   "execution_count": 6,
   "id": "outer-leonard",
   "metadata": {
    "execution": {
     "iopub.execute_input": "2025-07-02T15:09:41.178977Z",
     "iopub.status.busy": "2025-07-02T15:09:41.178205Z",
     "iopub.status.idle": "2025-07-02T15:09:41.182465Z",
     "shell.execute_reply": "2025-07-02T15:09:41.181675Z",
     "shell.execute_reply.started": "2025-07-01T13:44:29.099337Z"
    },
    "papermill": {
     "duration": 0.03851,
     "end_time": "2025-07-02T15:09:41.182637",
     "exception": false,
     "start_time": "2025-07-02T15:09:41.144127",
     "status": "completed"
    },
    "tags": []
   },
   "outputs": [],
   "source": [
    "from sklearn.svm import SVC"
   ]
  },
  {
   "cell_type": "code",
   "execution_count": 7,
   "id": "fundamental-sucking",
   "metadata": {
    "execution": {
     "iopub.execute_input": "2025-07-02T15:09:41.245499Z",
     "iopub.status.busy": "2025-07-02T15:09:41.244686Z",
     "iopub.status.idle": "2025-07-02T15:09:41.296514Z",
     "shell.execute_reply": "2025-07-02T15:09:41.295690Z",
     "shell.execute_reply.started": "2025-07-01T13:44:29.106952Z"
    },
    "papermill": {
     "duration": 0.085769,
     "end_time": "2025-07-02T15:09:41.296690",
     "exception": false,
     "start_time": "2025-07-02T15:09:41.210921",
     "status": "completed"
    },
    "tags": []
   },
   "outputs": [
    {
     "data": {
      "text/plain": [
       "SVC()"
      ]
     },
     "execution_count": 7,
     "metadata": {},
     "output_type": "execute_result"
    }
   ],
   "source": [
    "svc_model = SVC()\n",
    "svc_model.fit(train_data_scaled, train_data['fault'])"
   ]
  },
  {
   "cell_type": "markdown",
   "id": "noticed-determination",
   "metadata": {
    "papermill": {
     "duration": 0.02963,
     "end_time": "2025-07-02T15:09:41.356178",
     "exception": false,
     "start_time": "2025-07-02T15:09:41.326548",
     "status": "completed"
    },
    "tags": []
   },
   "source": [
    "## Model Evaluation\n",
    "Now get predictions from the model and create a confusion matrix and a classification report."
   ]
  },
  {
   "cell_type": "code",
   "execution_count": 8,
   "id": "intimate-pioneer",
   "metadata": {
    "execution": {
     "iopub.execute_input": "2025-07-02T15:09:41.422893Z",
     "iopub.status.busy": "2025-07-02T15:09:41.422143Z",
     "iopub.status.idle": "2025-07-02T15:09:41.556734Z",
     "shell.execute_reply": "2025-07-02T15:09:41.557400Z",
     "shell.execute_reply.started": "2025-07-01T13:44:29.166628Z"
    },
    "papermill": {
     "duration": 0.169912,
     "end_time": "2025-07-02T15:09:41.557610",
     "exception": false,
     "start_time": "2025-07-02T15:09:41.387698",
     "status": "completed"
    },
    "tags": []
   },
   "outputs": [],
   "source": [
    "train_predictions = svc_model.predict(train_data_scaled)\n",
    "test_predictions = svc_model.predict(test_data_scaled)"
   ]
  },
  {
   "cell_type": "code",
   "execution_count": 9,
   "id": "conscious-soccer",
   "metadata": {
    "execution": {
     "iopub.execute_input": "2025-07-02T15:09:41.622460Z",
     "iopub.status.busy": "2025-07-02T15:09:41.621498Z",
     "iopub.status.idle": "2025-07-02T15:09:41.625374Z",
     "shell.execute_reply": "2025-07-02T15:09:41.624557Z",
     "shell.execute_reply.started": "2025-07-01T13:44:29.294052Z"
    },
    "papermill": {
     "duration": 0.038941,
     "end_time": "2025-07-02T15:09:41.625558",
     "exception": false,
     "start_time": "2025-07-02T15:09:41.586617",
     "status": "completed"
    },
    "tags": []
   },
   "outputs": [],
   "source": [
    "from sklearn.metrics import classification_report,confusion_matrix"
   ]
  },
  {
   "cell_type": "markdown",
   "id": "minus-contract",
   "metadata": {
    "papermill": {
     "duration": 0.030727,
     "end_time": "2025-07-02T15:09:41.685936",
     "exception": false,
     "start_time": "2025-07-02T15:09:41.655209",
     "status": "completed"
    },
    "tags": []
   },
   "source": [
    "Plot confusion matrixes."
   ]
  },
  {
   "cell_type": "code",
   "execution_count": 10,
   "id": "representative-leader",
   "metadata": {
    "execution": {
     "iopub.execute_input": "2025-07-02T15:09:41.756751Z",
     "iopub.status.busy": "2025-07-02T15:09:41.755031Z",
     "iopub.status.idle": "2025-07-02T15:09:41.766926Z",
     "shell.execute_reply": "2025-07-02T15:09:41.766255Z",
     "shell.execute_reply.started": "2025-07-01T13:44:29.299783Z"
    },
    "papermill": {
     "duration": 0.05135,
     "end_time": "2025-07-02T15:09:41.767087",
     "exception": false,
     "start_time": "2025-07-02T15:09:41.715737",
     "status": "completed"
    },
    "tags": []
   },
   "outputs": [],
   "source": [
    "train_confu_matrix = confusion_matrix(train_data['fault'], train_predictions)\n",
    "test_confu_matrix = confusion_matrix(test_data['fault'], test_predictions)"
   ]
  },
  {
   "cell_type": "code",
   "execution_count": 11,
   "id": "herbal-cologne",
   "metadata": {
    "execution": {
     "iopub.execute_input": "2025-07-02T15:09:41.854334Z",
     "iopub.status.busy": "2025-07-02T15:09:41.853418Z",
     "iopub.status.idle": "2025-07-02T15:09:43.253439Z",
     "shell.execute_reply": "2025-07-02T15:09:43.253984Z",
     "shell.execute_reply.started": "2025-07-01T13:44:29.323278Z"
    },
    "papermill": {
     "duration": 1.457722,
     "end_time": "2025-07-02T15:09:43.254232",
     "exception": false,
     "start_time": "2025-07-02T15:09:41.796510",
     "status": "completed"
    },
    "tags": []
   },
   "outputs": [
    {
     "data": {
      "image/png": "[encoded data removed]",
      "text/plain": [
       "<Figure size 1296x576 with 2 Axes>"
      ]
     },
     "metadata": {
      "needs_background": "light"
     },
     "output_type": "display_data"
    }
   ],
   "source": [
    "fault_type = data_time.fault.unique()\n",
    "\n",
    "plt.figure(1,figsize=(18,8))\n",
    "\n",
    "plt.subplot(121)\n",
    "sns.heatmap(train_confu_matrix, annot= True,fmt = \"d\",\n",
    "xticklabels=fault_type, yticklabels=fault_type, cmap = \"Blues\", cbar = False)\n",
    "plt.title('Training Confusion Matrix')\n",
    "plt.xlabel('Predicted')\n",
    "plt.ylabel('True')\n",
    "plt.subplot(122)\n",
    "\n",
    "plt.subplot(122)\n",
    "sns.heatmap(test_confu_matrix, annot = True,\n",
    "xticklabels=fault_type, yticklabels=fault_type, cmap = \"Blues\", cbar = False)\n",
    "plt.title('Test Confusion Matrix')\n",
    "plt.xlabel('Predicted')\n",
    "plt.ylabel('True')\n",
    "\n",
    "plt.show()"
   ]
  },
  {
   "cell_type": "code",
   "execution_count": 12,
   "id": "renewable-consistency",
   "metadata": {
    "execution": {
     "iopub.execute_input": "2025-07-02T15:09:43.336851Z",
     "iopub.status.busy": "2025-07-02T15:09:43.335565Z",
     "iopub.status.idle": "2025-07-02T15:09:43.353875Z",
     "shell.execute_reply": "2025-07-02T15:09:43.353302Z",
     "shell.execute_reply.started": "2025-07-01T13:44:30.597122Z"
    },
    "papermill": {
     "duration": 0.068186,
     "end_time": "2025-07-02T15:09:43.354043",
     "exception": false,
     "start_time": "2025-07-02T15:09:43.285857",
     "status": "completed"
    },
    "tags": []
   },
   "outputs": [
    {
     "name": "stdout",
     "output_type": "stream",
     "text": [
      "              precision    recall  f1-score   support\n",
      "\n",
      "  Ball_007_1       0.92      0.97      0.95        75\n",
      "  Ball_014_1       0.86      0.72      0.78        75\n",
      "  Ball_021_1       0.95      0.81      0.88        75\n",
      "    IR_007_1       0.99      1.00      0.99        75\n",
      "    IR_014_1       1.00      1.00      1.00        75\n",
      "    IR_021_1       0.99      1.00      0.99        75\n",
      "    Normal_1       0.94      0.97      0.95        75\n",
      "  OR_007_6_1       1.00      1.00      1.00        75\n",
      "  OR_014_6_1       0.77      0.91      0.83        75\n",
      "  OR_021_6_1       0.97      0.99      0.98        75\n",
      "\n",
      "    accuracy                           0.94       750\n",
      "   macro avg       0.94      0.94      0.94       750\n",
      "weighted avg       0.94      0.94      0.94       750\n",
      "\n"
     ]
    }
   ],
   "source": [
    "# Classification report (test set)\n",
    "class_report = classification_report(y_pred = test_predictions, y_true = test_data['fault'])\n",
    "print(class_report)"
   ]
  },
  {
   "cell_type": "markdown",
   "id": "smooth-tomorrow",
   "metadata": {
    "papermill": {
     "duration": 0.031448,
     "end_time": "2025-07-02T15:09:43.420676",
     "exception": false,
     "start_time": "2025-07-02T15:09:43.389228",
     "status": "completed"
    },
    "tags": []
   },
   "source": [
    "- **recall**    =    para cada fallo, proporción de los correctamente identificados sobre el total de los reales = `TP / (TP + sum(FN))`\n",
    "- **precision** = para cada fallo, proporción de los correctamente identificados sobre el total en la predicción = `TP / (TP + sum(FP))`\n",
    "\n",
    "Refer to [Understanding Data Science Classification Metrics in Scikit-Learn in Python](https://towardsdatascience.com/understanding-data-science-classification-metrics-in-scikit-learn-in-python-3bc336865019) for the explanation of these metrics"
   ]
  },
  {
   "cell_type": "markdown",
   "id": "prepared-checklist",
   "metadata": {
    "papermill": {
     "duration": 0.0303,
     "end_time": "2025-07-02T15:09:43.483089",
     "exception": false,
     "start_time": "2025-07-02T15:09:43.452789",
     "status": "completed"
    },
    "tags": []
   },
   "source": [
    "## Tuning hyperparameters for model optimization"
   ]
  },
  {
   "cell_type": "markdown",
   "id": "strange-aquatic",
   "metadata": {
    "papermill": {
     "duration": 0.030284,
     "end_time": "2025-07-02T15:09:43.546357",
     "exception": false,
     "start_time": "2025-07-02T15:09:43.516073",
     "status": "completed"
    },
    "tags": []
   },
   "source": [
    "We will check a grid of parameters to find the best one. For each parameter combination, 10 fold cross-validation is performed.\n",
    "- Understand what [10 fold cross-validation](https://machinelearningmastery.com/k-fold-cross-validation/) is"
   ]
  },
  {
   "cell_type": "code",
   "execution_count": 13,
   "id": "attempted-fever",
   "metadata": {
    "execution": {
     "iopub.execute_input": "2025-07-02T15:09:43.617308Z",
     "iopub.status.busy": "2025-07-02T15:09:43.616217Z",
     "iopub.status.idle": "2025-07-02T15:09:43.620066Z",
     "shell.execute_reply": "2025-07-02T15:09:43.619355Z",
     "shell.execute_reply.started": "2025-07-01T13:44:30.630752Z"
    },
    "papermill": {
     "duration": 0.041569,
     "end_time": "2025-07-02T15:09:43.620256",
     "exception": false,
     "start_time": "2025-07-02T15:09:43.578687",
     "status": "completed"
    },
    "tags": []
   },
   "outputs": [],
   "source": [
    "parameters = {\"C\":[1, 10, 45, 47,49, 50, 51, 55, 100, 300, 500],\n",
    "             'gamma':[0.01, 0.05, 0.1, 0.5, 1, 5],\n",
    "             'kernel':[\"rbf\"]}"
   ]
  },
  {
   "cell_type": "code",
   "execution_count": 14,
   "id": "revised-point",
   "metadata": {
    "execution": {
     "iopub.execute_input": "2025-07-02T15:09:43.690744Z",
     "iopub.status.busy": "2025-07-02T15:09:43.689627Z",
     "iopub.status.idle": "2025-07-02T15:09:43.694925Z",
     "shell.execute_reply": "2025-07-02T15:09:43.694186Z",
     "shell.execute_reply.started": "2025-07-01T13:44:30.637664Z"
    },
    "papermill": {
     "duration": 0.044373,
     "end_time": "2025-07-02T15:09:43.695084",
     "exception": false,
     "start_time": "2025-07-02T15:09:43.650711",
     "status": "completed"
    },
    "tags": []
   },
   "outputs": [
    {
     "data": {
      "text/plain": [
       "GridSearchCV(cv=10, estimator=SVC(), n_jobs=-1,\n",
       "             param_grid={'C': [1, 10, 45, 47, 49, 50, 51, 55, 100, 300, 500],\n",
       "                         'gamma': [0.01, 0.05, 0.1, 0.5, 1, 5],\n",
       "                         'kernel': ['rbf']})"
      ]
     },
     "execution_count": 14,
     "metadata": {},
     "output_type": "execute_result"
    }
   ],
   "source": [
    "# Define the Grid Search optimization analysis\n",
    "tuned_svm_clf = GridSearchCV(SVC(),parameters,n_jobs = -1, cv= 10)\n",
    "tuned_svm_clf"
   ]
  },
  {
   "cell_type": "code",
   "execution_count": 15,
   "id": "gothic-luther",
   "metadata": {
    "execution": {
     "iopub.execute_input": "2025-07-02T15:09:43.764293Z",
     "iopub.status.busy": "2025-07-02T15:09:43.763461Z",
     "iopub.status.idle": "2025-07-02T15:10:09.502554Z",
     "shell.execute_reply": "2025-07-02T15:10:09.503044Z",
     "shell.execute_reply.started": "2025-07-01T13:44:30.652442Z"
    },
    "papermill": {
     "duration": 25.777522,
     "end_time": "2025-07-02T15:10:09.503289",
     "exception": false,
     "start_time": "2025-07-02T15:09:43.725767",
     "status": "completed"
    },
    "tags": []
   },
   "outputs": [
    {
     "data": {
      "text/plain": [
       "GridSearchCV(cv=10, estimator=SVC(), n_jobs=-1,\n",
       "             param_grid={'C': [1, 10, 45, 47, 49, 50, 51, 55, 100, 300, 500],\n",
       "                         'gamma': [0.01, 0.05, 0.1, 0.5, 1, 5],\n",
       "                         'kernel': ['rbf']})"
      ]
     },
     "execution_count": 15,
     "metadata": {},
     "output_type": "execute_result"
    }
   ],
   "source": [
    "# Train the move for the every pair of hyperparameters,\n",
    "#   and determine the best combination\n",
    "tuned_svm_clf.fit(train_data_scaled, train_data['fault'])"
   ]
  },
  {
   "cell_type": "code",
   "execution_count": 16,
   "id": "minus-eugene",
   "metadata": {
    "execution": {
     "iopub.execute_input": "2025-07-02T15:10:09.574981Z",
     "iopub.status.busy": "2025-07-02T15:10:09.573900Z",
     "iopub.status.idle": "2025-07-02T15:10:09.579854Z",
     "shell.execute_reply": "2025-07-02T15:10:09.579255Z",
     "shell.execute_reply.started": "2025-07-01T13:44:50.641611Z"
    },
    "papermill": {
     "duration": 0.045167,
     "end_time": "2025-07-02T15:10:09.580038",
     "exception": false,
     "start_time": "2025-07-02T15:10:09.534871",
     "status": "completed"
    },
    "tags": []
   },
   "outputs": [
    {
     "data": {
      "text/plain": [
       "{'C': 55, 'gamma': 0.05, 'kernel': 'rbf'}"
      ]
     },
     "execution_count": 16,
     "metadata": {},
     "output_type": "execute_result"
    }
   ],
   "source": [
    "# Hyperparameter of the best model\n",
    "tuned_svm_clf.best_params_"
   ]
  },
  {
   "cell_type": "code",
   "execution_count": 17,
   "id": "portable-sleeve",
   "metadata": {
    "execution": {
     "iopub.execute_input": "2025-07-02T15:10:09.675157Z",
     "iopub.status.busy": "2025-07-02T15:10:09.673871Z",
     "iopub.status.idle": "2025-07-02T15:10:09.679480Z",
     "shell.execute_reply": "2025-07-02T15:10:09.680242Z",
     "shell.execute_reply.started": "2025-07-01T13:44:50.649276Z"
    },
    "papermill": {
     "duration": 0.060913,
     "end_time": "2025-07-02T15:10:09.680471",
     "exception": false,
     "start_time": "2025-07-02T15:10:09.619558",
     "status": "completed"
    },
    "tags": []
   },
   "outputs": [
    {
     "data": {
      "text/plain": [
       "SVC(C=55, gamma=0.05)"
      ]
     },
     "execution_count": 17,
     "metadata": {},
     "output_type": "execute_result"
    }
   ],
   "source": [
    "#Let's select the best model and provide results on them\n",
    "best_clf = tuned_svm_clf.best_estimator_\n",
    "best_clf"
   ]
  },
  {
   "cell_type": "markdown",
   "id": "activated-cover",
   "metadata": {
    "papermill": {
     "duration": 0.034292,
     "end_time": "2025-07-02T15:10:09.758187",
     "exception": false,
     "start_time": "2025-07-02T15:10:09.723895",
     "status": "completed"
    },
    "tags": []
   },
   "source": [
    "## Best model evaluation"
   ]
  },
  {
   "cell_type": "code",
   "execution_count": 18,
   "id": "covered-thesis",
   "metadata": {
    "execution": {
     "iopub.execute_input": "2025-07-02T15:10:09.829336Z",
     "iopub.status.busy": "2025-07-02T15:10:09.828318Z",
     "iopub.status.idle": "2025-07-02T15:10:09.899288Z",
     "shell.execute_reply": "2025-07-02T15:10:09.898495Z",
     "shell.execute_reply.started": "2025-07-01T13:44:50.663357Z"
    },
    "papermill": {
     "duration": 0.10832,
     "end_time": "2025-07-02T15:10:09.899457",
     "exception": false,
     "start_time": "2025-07-02T15:10:09.791137",
     "status": "completed"
    },
    "tags": []
   },
   "outputs": [],
   "source": [
    "# Compute the predictions\n",
    "train_predictions_best = best_clf.predict(train_data_scaled)\n",
    "test_predictions_best = best_clf.predict(test_data_scaled)"
   ]
  },
  {
   "cell_type": "code",
   "execution_count": 19,
   "id": "ignored-alarm",
   "metadata": {
    "execution": {
     "iopub.execute_input": "2025-07-02T15:10:09.978774Z",
     "iopub.status.busy": "2025-07-02T15:10:09.977928Z",
     "iopub.status.idle": "2025-07-02T15:10:09.982338Z",
     "shell.execute_reply": "2025-07-02T15:10:09.981759Z",
     "shell.execute_reply.started": "2025-07-01T13:44:50.736237Z"
    },
    "papermill": {
     "duration": 0.051582,
     "end_time": "2025-07-02T15:10:09.982511",
     "exception": false,
     "start_time": "2025-07-02T15:10:09.930929",
     "status": "completed"
    },
    "tags": []
   },
   "outputs": [],
   "source": [
    "# Compute confusion matrix for training and test datasets\n",
    "train_confu_matrix_best = confusion_matrix(train_data['fault'], train_predictions_best)\n",
    "test_confu_matrix_best = confusion_matrix(test_data['fault'], test_predictions_best)"
   ]
  },
  {
   "cell_type": "code",
   "execution_count": 20,
   "id": "generic-better",
   "metadata": {
    "execution": {
     "iopub.execute_input": "2025-07-02T15:10:10.077069Z",
     "iopub.status.busy": "2025-07-02T15:10:10.068952Z",
     "iopub.status.idle": "2025-07-02T15:10:11.306623Z",
     "shell.execute_reply": "2025-07-02T15:10:11.305918Z",
     "shell.execute_reply.started": "2025-07-01T13:44:50.755573Z"
    },
    "papermill": {
     "duration": 1.292115,
     "end_time": "2025-07-02T15:10:11.306801",
     "exception": false,
     "start_time": "2025-07-02T15:10:10.014686",
     "status": "completed"
    },
    "tags": []
   },
   "outputs": [
    {
     "data": {
      "image/png": "[encoded data removed]",
      "text/plain": [
       "<Figure size 1296x576 with 2 Axes>"
      ]
     },
     "metadata": {
      "needs_background": "light"
     },
     "output_type": "display_data"
    }
   ],
   "source": [
    "plt.figure(1,figsize=(18,8))\n",
    "\n",
    "plt.subplot(121)\n",
    "sns.heatmap(train_confu_matrix_best, annot= True,fmt = \"d\",\n",
    "xticklabels=fault_type, yticklabels=fault_type, cmap = \"Blues\", cbar = False)\n",
    "plt.title('Training Confusion Matrix (best model)')\n",
    "plt.xlabel('Predicted')\n",
    "plt.ylabel('True')\n",
    "plt.subplot(122)\n",
    "\n",
    "plt.subplot(122)\n",
    "sns.heatmap(test_confu_matrix_best, annot = True,\n",
    "xticklabels=fault_type, yticklabels=fault_type, cmap = \"Blues\", cbar = False)\n",
    "plt.title('Test Confusion Matrix (best model)')\n",
    "plt.xlabel('Predicted')\n",
    "plt.ylabel('True')\n",
    "\n",
    "plt.show()"
   ]
  },
  {
   "cell_type": "markdown",
   "id": "national-subdivision",
   "metadata": {
    "papermill": {
     "duration": 0.033446,
     "end_time": "2025-07-02T15:10:11.374817",
     "exception": false,
     "start_time": "2025-07-02T15:10:11.341371",
     "status": "completed"
    },
    "tags": []
   },
   "source": [
    "### Compare with non optimized versions"
   ]
  },
  {
   "cell_type": "code",
   "execution_count": 21,
   "id": "reduced-player",
   "metadata": {
    "execution": {
     "iopub.execute_input": "2025-07-02T15:10:11.471543Z",
     "iopub.status.busy": "2025-07-02T15:10:11.457751Z",
     "iopub.status.idle": "2025-07-02T15:10:11.486733Z",
     "shell.execute_reply": "2025-07-02T15:10:11.485965Z",
     "shell.execute_reply.started": "2025-07-01T13:44:51.882506Z"
    },
    "papermill": {
     "duration": 0.076542,
     "end_time": "2025-07-02T15:10:11.486893",
     "exception": false,
     "start_time": "2025-07-02T15:10:11.410351",
     "status": "completed"
    },
    "tags": []
   },
   "outputs": [
    {
     "name": "stdout",
     "output_type": "stream",
     "text": [
      "              precision    recall  f1-score   support\n",
      "\n",
      "  Ball_007_1       0.95      0.99      0.97        75\n",
      "  Ball_014_1       0.94      0.88      0.91        75\n",
      "  Ball_021_1       0.97      0.89      0.93        75\n",
      "    IR_007_1       0.99      1.00      0.99        75\n",
      "    IR_014_1       1.00      1.00      1.00        75\n",
      "    IR_021_1       1.00      1.00      1.00        75\n",
      "    Normal_1       0.97      1.00      0.99        75\n",
      "  OR_007_6_1       1.00      1.00      1.00        75\n",
      "  OR_014_6_1       0.84      0.89      0.86        75\n",
      "  OR_021_6_1       0.99      0.99      0.99        75\n",
      "\n",
      "    accuracy                           0.96       750\n",
      "   macro avg       0.96      0.96      0.96       750\n",
      "weighted avg       0.96      0.96      0.96       750\n",
      "\n"
     ]
    }
   ],
   "source": [
    "# Classification report (test set)\n",
    "class_report_best = classification_report(y_pred = test_predictions_best, y_true = test_data['fault'])\n",
    "print(class_report_best)"
   ]
  },
  {
   "cell_type": "code",
   "execution_count": 22,
   "id": "nominated-surveillance",
   "metadata": {
    "execution": {
     "iopub.execute_input": "2025-07-02T15:10:11.564368Z",
     "iopub.status.busy": "2025-07-02T15:10:11.563330Z",
     "iopub.status.idle": "2025-07-02T15:10:11.568249Z",
     "shell.execute_reply": "2025-07-02T15:10:11.567523Z",
     "shell.execute_reply.started": "2025-07-01T13:44:51.916309Z"
    },
    "papermill": {
     "duration": 0.047839,
     "end_time": "2025-07-02T15:10:11.568449",
     "exception": false,
     "start_time": "2025-07-02T15:10:11.520610",
     "status": "completed"
    },
    "tags": []
   },
   "outputs": [
    {
     "name": "stdout",
     "output_type": "stream",
     "text": [
      "              precision    recall  f1-score   support\n",
      "\n",
      "  Ball_007_1       0.92      0.97      0.95        75\n",
      "  Ball_014_1       0.86      0.72      0.78        75\n",
      "  Ball_021_1       0.95      0.81      0.88        75\n",
      "    IR_007_1       0.99      1.00      0.99        75\n",
      "    IR_014_1       1.00      1.00      1.00        75\n",
      "    IR_021_1       0.99      1.00      0.99        75\n",
      "    Normal_1       0.94      0.97      0.95        75\n",
      "  OR_007_6_1       1.00      1.00      1.00        75\n",
      "  OR_014_6_1       0.77      0.91      0.83        75\n",
      "  OR_021_6_1       0.97      0.99      0.98        75\n",
      "\n",
      "    accuracy                           0.94       750\n",
      "   macro avg       0.94      0.94      0.94       750\n",
      "weighted avg       0.94      0.94      0.94       750\n",
      "\n"
     ]
    }
   ],
   "source": [
    "# Remember the metrics for the non-optimized model\n",
    "print(class_report)"
   ]
  },
  {
   "cell_type": "markdown",
   "id": "addressed-saint",
   "metadata": {
    "papermill": {
     "duration": 0.035275,
     "end_time": "2025-07-02T15:10:11.638302",
     "exception": false,
     "start_time": "2025-07-02T15:10:11.603027",
     "status": "completed"
    },
    "tags": []
   },
   "source": [
    "## Multinomial logistic regression\n",
    "This is the alternative model for comparing with SVC performance"
   ]
  },
  {
   "cell_type": "code",
   "execution_count": 23,
   "id": "strong-dictionary",
   "metadata": {
    "execution": {
     "iopub.execute_input": "2025-07-02T15:10:11.725188Z",
     "iopub.status.busy": "2025-07-02T15:10:11.723788Z",
     "iopub.status.idle": "2025-07-02T15:10:11.938747Z",
     "shell.execute_reply": "2025-07-02T15:10:11.938029Z",
     "shell.execute_reply.started": "2025-07-01T13:44:51.924104Z"
    },
    "papermill": {
     "duration": 0.266144,
     "end_time": "2025-07-02T15:10:11.938901",
     "exception": false,
     "start_time": "2025-07-02T15:10:11.672757",
     "status": "completed"
    },
    "tags": []
   },
   "outputs": [
    {
     "data": {
      "text/plain": [
       "LogisticRegression(max_iter=1000, multi_class='multinomial')"
      ]
     },
     "execution_count": 23,
     "metadata": {},
     "output_type": "execute_result"
    }
   ],
   "source": [
    "# Logistic regression classifier\n",
    "from sklearn.linear_model import LogisticRegression\n",
    "\n",
    "# Setup the model\n",
    "logis_model = LogisticRegression(multi_class='multinomial', solver='lbfgs', max_iter=1000)\n",
    "\n",
    "# Train the model\n",
    "logis_model.fit(train_data_scaled, train_data['fault'])"
   ]
  },
  {
   "cell_type": "code",
   "execution_count": 24,
   "id": "stunning-holmes",
   "metadata": {
    "execution": {
     "iopub.execute_input": "2025-07-02T15:10:12.018297Z",
     "iopub.status.busy": "2025-07-02T15:10:12.017284Z",
     "iopub.status.idle": "2025-07-02T15:10:12.022129Z",
     "shell.execute_reply": "2025-07-02T15:10:12.021381Z",
     "shell.execute_reply.started": "2025-07-01T13:44:52.119244Z"
    },
    "papermill": {
     "duration": 0.044969,
     "end_time": "2025-07-02T15:10:12.022298",
     "exception": false,
     "start_time": "2025-07-02T15:10:11.977329",
     "status": "completed"
    },
    "tags": []
   },
   "outputs": [],
   "source": [
    "# Compute the predictions\n",
    "test_predictions_lr = logis_model.predict(test_data_scaled)"
   ]
  },
  {
   "cell_type": "code",
   "execution_count": 25,
   "id": "damaged-blame",
   "metadata": {
    "execution": {
     "iopub.execute_input": "2025-07-02T15:10:12.100404Z",
     "iopub.status.busy": "2025-07-02T15:10:12.099346Z",
     "iopub.status.idle": "2025-07-02T15:10:12.105991Z",
     "shell.execute_reply": "2025-07-02T15:10:12.105215Z",
     "shell.execute_reply.started": "2025-07-01T13:44:52.125729Z"
    },
    "papermill": {
     "duration": 0.049425,
     "end_time": "2025-07-02T15:10:12.106196",
     "exception": false,
     "start_time": "2025-07-02T15:10:12.056771",
     "status": "completed"
    },
    "tags": []
   },
   "outputs": [],
   "source": [
    "# Compute confusion matrix \n",
    "test_confu_matrix_lr = confusion_matrix(test_data['fault'], test_predictions_lr)"
   ]
  },
  {
   "cell_type": "code",
   "execution_count": 26,
   "id": "gentle-smile",
   "metadata": {
    "execution": {
     "iopub.execute_input": "2025-07-02T15:10:12.189540Z",
     "iopub.status.busy": "2025-07-02T15:10:12.184544Z",
     "iopub.status.idle": "2025-07-02T15:10:12.212164Z",
     "shell.execute_reply": "2025-07-02T15:10:12.212763Z",
     "shell.execute_reply.started": "2025-07-01T13:44:52.143520Z"
    },
    "papermill": {
     "duration": 0.070546,
     "end_time": "2025-07-02T15:10:12.212967",
     "exception": false,
     "start_time": "2025-07-02T15:10:12.142421",
     "status": "completed"
    },
    "tags": []
   },
   "outputs": [
    {
     "name": "stdout",
     "output_type": "stream",
     "text": [
      "              precision    recall  f1-score   support\n",
      "\n",
      "  Ball_007_1       0.91      1.00      0.96        75\n",
      "  Ball_014_1       0.83      0.77      0.80        75\n",
      "  Ball_021_1       0.92      0.88      0.90        75\n",
      "    IR_007_1       0.99      1.00      0.99        75\n",
      "    IR_014_1       1.00      1.00      1.00        75\n",
      "    IR_021_1       0.99      1.00      0.99        75\n",
      "    Normal_1       0.94      0.97      0.95        75\n",
      "  OR_007_6_1       1.00      1.00      1.00        75\n",
      "  OR_014_6_1       0.86      0.81      0.84        75\n",
      "  OR_021_6_1       0.99      0.99      0.99        75\n",
      "\n",
      "    accuracy                           0.94       750\n",
      "   macro avg       0.94      0.94      0.94       750\n",
      "weighted avg       0.94      0.94      0.94       750\n",
      "\n"
     ]
    }
   ],
   "source": [
    "# Classification report\n",
    "class_report_lr = classification_report(y_pred = test_predictions_lr, y_true = test_data['fault'])\n",
    "print(class_report_lr)"
   ]
  },
  {
   "cell_type": "code",
   "execution_count": 27,
   "id": "neutral-advocate",
   "metadata": {
    "execution": {
     "iopub.execute_input": "2025-07-02T15:10:12.288752Z",
     "iopub.status.busy": "2025-07-02T15:10:12.287934Z",
     "iopub.status.idle": "2025-07-02T15:10:12.293790Z",
     "shell.execute_reply": "2025-07-02T15:10:12.292930Z",
     "shell.execute_reply.started": "2025-07-01T13:44:52.179063Z"
    },
    "papermill": {
     "duration": 0.046131,
     "end_time": "2025-07-02T15:10:12.293961",
     "exception": false,
     "start_time": "2025-07-02T15:10:12.247830",
     "status": "completed"
    },
    "tags": []
   },
   "outputs": [],
   "source": [
    "# Compute the predictions\n",
    "train_predictions_logis = logis_model.predict(train_data_scaled)\n",
    "test_predictions_logis = logis_model.predict(test_data_scaled)"
   ]
  },
  {
   "cell_type": "code",
   "execution_count": 28,
   "id": "pointed-subcommittee",
   "metadata": {
    "execution": {
     "iopub.execute_input": "2025-07-02T15:10:12.403469Z",
     "iopub.status.busy": "2025-07-02T15:10:12.402267Z",
     "iopub.status.idle": "2025-07-02T15:10:12.408043Z",
     "shell.execute_reply": "2025-07-02T15:10:12.408650Z",
     "shell.execute_reply.started": "2025-07-01T13:44:52.185698Z"
    },
    "papermill": {
     "duration": 0.077783,
     "end_time": "2025-07-02T15:10:12.408848",
     "exception": false,
     "start_time": "2025-07-02T15:10:12.331065",
     "status": "completed"
    },
    "tags": []
   },
   "outputs": [
    {
     "name": "stdout",
     "output_type": "stream",
     "text": [
      "              precision    recall  f1-score   support\n",
      "\n",
      "  Ball_007_1       0.91      1.00      0.96        75\n",
      "  Ball_014_1       0.83      0.77      0.80        75\n",
      "  Ball_021_1       0.92      0.88      0.90        75\n",
      "    IR_007_1       0.99      1.00      0.99        75\n",
      "    IR_014_1       1.00      1.00      1.00        75\n",
      "    IR_021_1       0.99      1.00      0.99        75\n",
      "    Normal_1       0.94      0.97      0.95        75\n",
      "  OR_007_6_1       1.00      1.00      1.00        75\n",
      "  OR_014_6_1       0.86      0.81      0.84        75\n",
      "  OR_021_6_1       0.99      0.99      0.99        75\n",
      "\n",
      "    accuracy                           0.94       750\n",
      "   macro avg       0.94      0.94      0.94       750\n",
      "weighted avg       0.94      0.94      0.94       750\n",
      "\n"
     ]
    }
   ],
   "source": [
    "# Classification report (test set)\n",
    "class_report_logis = classification_report(y_pred = test_predictions_logis, y_true = test_data['fault'])\n",
    "print(class_report_logis)"
   ]
  },
  {
   "cell_type": "code",
   "execution_count": 29,
   "id": "handy-balloon",
   "metadata": {
    "execution": {
     "iopub.execute_input": "2025-07-02T15:10:12.508403Z",
     "iopub.status.busy": "2025-07-02T15:10:12.489690Z",
     "iopub.status.idle": "2025-07-02T15:10:13.046898Z",
     "shell.execute_reply": "2025-07-02T15:10:13.047437Z",
     "shell.execute_reply.started": "2025-07-01T13:44:52.225549Z"
    },
    "papermill": {
     "duration": 0.601669,
     "end_time": "2025-07-02T15:10:13.047669",
     "exception": false,
     "start_time": "2025-07-02T15:10:12.446000",
     "status": "completed"
    },
    "tags": []
   },
   "outputs": [
    {
     "data": {
      "image/png": "[encoded data removed]",
      "text/plain": [
       "<Figure size 576x432 with 1 Axes>"
      ]
     },
     "metadata": {
      "needs_background": "light"
     },
     "output_type": "display_data"
    }
   ],
   "source": [
    "plt.figure(1,figsize=(8,6))\n",
    "\n",
    "sns.heatmap(test_confu_matrix_lr, annot = True,\n",
    "xticklabels=fault_type, yticklabels=fault_type, cmap = \"Blues\", cbar = False)\n",
    "plt.title('Test Confusion Matrix (logistic regression)')\n",
    "plt.xlabel('Predicted')\n",
    "plt.ylabel('True')\n",
    "\n",
    "plt.show()"
   ]
  }
 ],
 "metadata": {
  "kaggle": {
   "accelerator": "none",
   "dataSources": [
    {
     "datasetId": 1328389,
     "sourceId": 2211974,
     "sourceType": "datasetVersion"
    }
   ],
   "dockerImageVersionId": 30096,
   "isGpuEnabled": false,
   "isInternetEnabled": false,
   "language": "python",
   "sourceType": "notebook"
  },
  "kernelspec": {
   "display_name": "Python 3",
   "language": "python",
   "name": "python3"
  },
  "language_info": {
   "codemirror_mode": {
    "name": "ipython",
    "version": 3
   },
   "file_extension": ".py",
   "mimetype": "text/x-python",
   "name": "python",
   "nbconvert_exporter": "python",
   "pygments_lexer": "ipython3",
   "version": "3.7.10"
  },
  "papermill": {
   "default_parameters": {},
   "duration": 47.280021,
   "end_time": "2025-07-02T15:10:14.101529",
   "environment_variables": {},
   "exception": null,
   "input_path": "__notebook__.ipynb",
   "output_path": "__notebook__.ipynb",
   "parameters": {},
   "start_time": "2025-07-02T15:09:26.821508",
   "version": "2.3.3"
  }
 },
 "nbformat": 4,
 "nbformat_minor": 5
}
